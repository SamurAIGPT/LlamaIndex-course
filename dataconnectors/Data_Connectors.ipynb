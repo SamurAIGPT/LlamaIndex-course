{
  "cells": [
    {
      "cell_type": "markdown",
      "metadata": {
        "colab_type": "text",
        "id": "view-in-github"
      },
      "source": [
        "<a href=\"https://colab.research.google.com/github/SamurAIGPT/LlamaIndex-course/blob/main/dataconnectors/Data_Connectors.ipynb\" target=\"_parent\"><img src=\"https://colab.research.google.com/assets/colab-badge.svg\" alt=\"Open In Colab\"/></a>"
      ]
    },
    {
      "cell_type": "markdown",
      "metadata": {
        "id": "cv1K2unMDaPr"
      },
      "source": [
        "# Data Connector\n",
        "\n",
        "A data connector in LlamaIndex does the task of taking data from different sources and convert the data into Document format which can be ingested by LlamaIndex\n",
        "\n",
        "LlamaIndex supports a bunch of Data Connectors which helps you read data from Webpages, PDF, Youtube videos, Notion docs, Slack message, Google docs etc.\n",
        "\n",
        "Let's discuss few of these with an example"
      ]
    },
    {
      "cell_type": "code",
      "execution_count": null,
      "metadata": {
        "id": "p_g26P4s-oTE"
      },
      "outputs": [],
      "source": [
        "!pip install llama-index openai"
      ]
    },
    {
      "cell_type": "markdown",
      "metadata": {
        "id": "efZgbN8FJRTg"
      },
      "source": [
        "### Youtube document loader\n",
        "\n",
        "Let's see how we can convert the transcripts from youtube videos into documents format"
      ]
    },
    {
      "cell_type": "code",
      "execution_count": null,
      "metadata": {},
      "outputs": [],
      "source": [
        "import os\n",
        "os.environ[\"OPENAI_API_KEY\"] = \"api-key\""
      ]
    },
    {
      "cell_type": "code",
      "execution_count": 24,
      "metadata": {
        "id": "4VyBKMWGHDev"
      },
      "outputs": [],
      "source": [
        "from llama_index import download_loader\n",
        "\n",
        "YoutubeTranscriptReader = download_loader(\"YoutubeTranscriptReader\")\n",
        "\n",
        "loader = YoutubeTranscriptReader()\n",
        "youtube_documents = loader.load_data(ytlinks=['https://www.youtube.com/watch?v=nHcbHdgVUJg&ab_channel=WintWealth'])"
      ]
    },
    {
      "cell_type": "markdown",
      "metadata": {
        "id": "SB7FcI74JqvK"
      },
      "source": [
        "### PDF loader"
      ]
    },
    {
      "cell_type": "markdown",
      "metadata": {
        "id": "8jNWF8NgKFBj"
      },
      "source": [
        "Download the pdf file"
      ]
    },
    {
      "cell_type": "code",
      "execution_count": null,
      "metadata": {
        "id": "QoR7hK_yJ_uG"
      },
      "outputs": [],
      "source": [
        "!wget https://www.africau.edu/images/default/sample.pdf"
      ]
    },
    {
      "cell_type": "markdown",
      "metadata": {
        "id": "Vp4eVGlJKIK-"
      },
      "source": [
        "Now convert it to documents format"
      ]
    },
    {
      "cell_type": "code",
      "execution_count": 26,
      "metadata": {
        "id": "vaibV1VGHOom"
      },
      "outputs": [],
      "source": [
        "from pathlib import Path\n",
        "from llama_index import download_loader\n",
        "\n",
        "PDFReader = download_loader(\"PDFReader\")\n",
        "\n",
        "loader = PDFReader()\n",
        "\n",
        "pdf_document = loader.load_data(file=Path('./sample.pdf'))"
      ]
    },
    {
      "cell_type": "markdown",
      "metadata": {
        "id": "RvSUp1xfNsQC"
      },
      "source": [
        "### Notion Loader"
      ]
    },
    {
      "cell_type": "code",
      "execution_count": 27,
      "metadata": {
        "id": "_RaJxVB0KPvF"
      },
      "outputs": [],
      "source": [
        "from llama_index import download_loader\n",
        "import os\n",
        "\n",
        "NotionPageReader = download_loader('NotionPageReader')\n",
        "\n",
        "integration_token = \"your-notion-token\"\n",
        "database_id = \"your-database-id\"\n",
        "reader = NotionPageReader(integration_token=integration_token)\n",
        "notion_documents = reader.load_data(database_id=database_id)"
      ]
    },
    {
      "cell_type": "code",
      "execution_count": 28,
      "metadata": {
        "id": "jhB7jgmoN22h"
      },
      "outputs": [],
      "source": [
        "all_documents = youtube_documents + pdf_document + notion_documents"
      ]
    },
    {
      "cell_type": "markdown",
      "metadata": {
        "id": "95fe8wB3OYUF"
      },
      "source": [
        "Now let's create a Q&A bot over these documents"
      ]
    },
    {
      "cell_type": "code",
      "execution_count": 30,
      "metadata": {
        "id": "SJp8od3fN9GA"
      },
      "outputs": [],
      "source": [
        "import os\n",
        "from llama_index import VectorStoreIndex\n",
        "\n",
        "index = VectorStoreIndex.from_documents(all_documents)"
      ]
    },
    {
      "cell_type": "code",
      "execution_count": 31,
      "metadata": {
        "colab": {
          "base_uri": "https://localhost:8080/"
        },
        "id": "e4-FkqQVOUIz",
        "outputId": "5ea314f6-9513-4227-e7bf-25d7f1f6e92d"
      },
      "outputs": [
        {
          "name": "stdout",
          "output_type": "stream",
          "text": [
            "\n",
            "Yes, IIT can help in certain situations. For example, having an IIT degree can give a founder access to a larger network of investors and potential partners. It can also give them more credibility when pitching their startup. However, it is not a guarantee of success and there are many successful founders who do not have an IIT degree. Ultimately, it is up to the individual to prove themselves and their abilities.\n"
          ]
        }
      ],
      "source": [
        "query_engine = index.as_query_engine()\n",
        "response = query_engine.query(\"Does IIT help?\")\n",
        "print(response)"
      ]
    }
  ],
  "metadata": {
    "colab": {
      "authorship_tag": "ABX9TyMmecEa+WHznLAOWzzTvUwk",
      "include_colab_link": true,
      "provenance": []
    },
    "kernelspec": {
      "display_name": "Python 3",
      "name": "python3"
    },
    "language_info": {
      "name": "python"
    }
  },
  "nbformat": 4,
  "nbformat_minor": 0
}
